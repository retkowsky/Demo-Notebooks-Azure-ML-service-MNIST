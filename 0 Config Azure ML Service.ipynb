{
  "cells": [
    {
      "metadata": {},
      "cell_type": "markdown",
      "source": "# 0. Configuration Azure ML Service\nThis notebook configures your library of notebooks to connect to an Azure Machine Learning Workspace. <br> In this case, a library contains all of the notebooks in the current folder and any nested folders.  You can configure this notebook to use an existing workspace or create a new workspace.\n\n## What is an Azure ML Workspace and why do I need one?\n\nAn AML Workspace is an Azure resource that organizes and coordinates the actions of many other Azure resources to assist in executing and sharing machine learning workflows. <br>\nIn particular, an AML Workspace coordinates storage, databases, and compute resources providing added functionality for machine learning experimentation, operationalization, and the monitoring of operationalized models."
    },
    {
      "metadata": {
        "trusted": true
      },
      "cell_type": "code",
      "source": "#!pip install azureml-sdk",
      "execution_count": 1,
      "outputs": []
    },
    {
      "metadata": {
        "tags": [
          "install"
        ],
        "trusted": true
      },
      "cell_type": "code",
      "source": "import azureml.core\nprint(\"Version Azure ML service :\", azureml.core.VERSION)",
      "execution_count": 2,
      "outputs": [
        {
          "output_type": "stream",
          "text": "Version Azure ML service : 1.0.2\n",
          "name": "stdout"
        }
      ]
    },
    {
      "metadata": {
        "trusted": true
      },
      "cell_type": "code",
      "source": "import os\n\nsubscription_id = os.environ.get(\"SUBSCRIPTION_ID\", \"A Comppléter\")\nresource_group = os.environ.get(\"RESOURCE_GROUP\", \"A Comppléter\")\nworkspace_name = os.environ.get(\"WORKSPACE_NAME\", \"A Comppléter\")",
      "execution_count": 3,
      "outputs": []
    },
    {
      "metadata": {
        "trusted": true
      },
      "cell_type": "code",
      "source": "from azureml.core import Workspace\n\ntry:\n   ws = Workspace(subscription_id = subscription_id, resource_group = resource_group, workspace_name = workspace_name)\n   ws.write_config()\n   print(\"Le workspace Azure ML service a été trouvé : OK\")\nexcept:\n   print(\"Le workspace Azure ML service n'a pas été trouvé\")",
      "execution_count": 4,
      "outputs": [
        {
          "output_type": "stream",
          "text": "Wrote the config file config.json to: /home/nbuser/library/aml_config/config.json\nLe workspace Azure ML service a été trouvé : OK\n",
          "name": "stdout"
        }
      ]
    },
    {
      "metadata": {
        "trusted": true
      },
      "cell_type": "code",
      "source": "",
      "execution_count": null,
      "outputs": []
    }
  ],
  "metadata": {
    "authors": [
      {
        "name": "roastala"
      }
    ],
    "kernelspec": {
      "name": "python36",
      "display_name": "Python 3.6",
      "language": "python"
    },
    "language_info": {
      "mimetype": "text/x-python",
      "nbconvert_exporter": "python",
      "name": "python",
      "pygments_lexer": "ipython3",
      "version": "3.6.6",
      "file_extension": ".py",
      "codemirror_mode": {
        "version": 3,
        "name": "ipython"
      }
    }
  },
  "nbformat": 4,
  "nbformat_minor": 2
}